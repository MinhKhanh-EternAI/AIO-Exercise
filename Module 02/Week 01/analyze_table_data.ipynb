{
 "cells": [
  {
   "cell_type": "markdown",
   "metadata": {},
   "source": [
    "*Import libraries*"
   ]
  },
  {
   "cell_type": "code",
   "execution_count": 56,
   "metadata": {},
   "outputs": [],
   "source": [
    "import pandas as pd"
   ]
  },
  {
   "cell_type": "markdown",
   "metadata": {},
   "source": [
    "*Download dataset*"
   ]
  },
  {
   "cell_type": "code",
   "execution_count": 57,
   "metadata": {},
   "outputs": [],
   "source": [
    "# !gdown 1iA0WmVfW88HyJvTBSQDI5vesf-pgKabq"
   ]
  },
  {
   "cell_type": "code",
   "execution_count": 58,
   "metadata": {},
   "outputs": [],
   "source": [
    "df = pd.read_csv('C:\\\\Users\\\\MinhKhanh\\\\Documents\\\\workspace\\\\AIO-2024\\\\AIO-Exercise\\\\Module 02\\\\Week 01\\\\source\\\\advertising.csv')"
   ]
  },
  {
   "cell_type": "code",
   "execution_count": 59,
   "metadata": {},
   "outputs": [],
   "source": [
    "data = df.to_numpy()"
   ]
  },
  {
   "cell_type": "markdown",
   "metadata": {},
   "source": [
    "*Câu 15*"
   ]
  },
  {
   "cell_type": "code",
   "execution_count": 60,
   "metadata": {},
   "outputs": [
    {
     "name": "stdout",
     "output_type": "stream",
     "text": [
      "Max: 27.0 - Index: 175\n"
     ]
    }
   ],
   "source": [
    "max_value = df['Sales'].max()\n",
    "max_index = df['Sales'].idxmax()\n",
    "\n",
    "print(f\"Max: {max_value} - Index: {max_index}\")"
   ]
  },
  {
   "cell_type": "markdown",
   "metadata": {},
   "source": [
    "*Câu 16*"
   ]
  },
  {
   "cell_type": "code",
   "execution_count": 61,
   "metadata": {},
   "outputs": [
    {
     "name": "stdout",
     "output_type": "stream",
     "text": [
      "147.0425\n"
     ]
    }
   ],
   "source": [
    "mean_value = df['TV'].mean()\n",
    "print(mean_value)"
   ]
  },
  {
   "cell_type": "markdown",
   "metadata": {},
   "source": [
    "*Câu 17*"
   ]
  },
  {
   "cell_type": "code",
   "execution_count": 62,
   "metadata": {},
   "outputs": [
    {
     "data": {
      "text/plain": [
       "40"
      ]
     },
     "execution_count": 62,
     "metadata": {},
     "output_type": "execute_result"
    }
   ],
   "source": [
    "filtered_df = df[df['Sales'] >= 20]\n",
    "\n",
    "# Đếm số lượng các bản ghi thỏa mãn điều kiện\n",
    "count = filtered_df.shape[0]\n",
    "count"
   ]
  },
  {
   "cell_type": "markdown",
   "metadata": {},
   "source": [
    "*Câu 18*"
   ]
  },
  {
   "cell_type": "code",
   "execution_count": 63,
   "metadata": {},
   "outputs": [
    {
     "data": {
      "text/plain": [
       "26.22293577981651"
      ]
     },
     "execution_count": 63,
     "metadata": {},
     "output_type": "execute_result"
    }
   ],
   "source": [
    "df_18 = df[df['Sales'] >= 15]\n",
    "df_18['Radio'].mean()"
   ]
  },
  {
   "cell_type": "markdown",
   "metadata": {},
   "source": [
    "*Câu 19*"
   ]
  },
  {
   "cell_type": "code",
   "execution_count": 64,
   "metadata": {},
   "outputs": [
    {
     "data": {
      "text/plain": [
       "1405.1"
      ]
     },
     "execution_count": 64,
     "metadata": {},
     "output_type": "execute_result"
    }
   ],
   "source": [
    "df_19 = df[df['Newspaper'] > df['Newspaper'].mean()]\n",
    "df_19['Sales'].sum()"
   ]
  },
  {
   "cell_type": "markdown",
   "metadata": {},
   "source": [
    "*Câu 20*"
   ]
  },
  {
   "cell_type": "code",
   "execution_count": 65,
   "metadata": {},
   "outputs": [
    {
     "name": "stdout",
     "output_type": "stream",
     "text": [
      "['Bad', 'Bad', 'Good']\n"
     ]
    }
   ],
   "source": [
    "# Tính giá trị trung bình của cột 'Sales'\n",
    "A = df['Sales'].mean()\n",
    "\n",
    "# Tạo mảng scores chứa các giá trị 'Good', 'Average', và 'Bad'\n",
    "scores = []\n",
    "for value in df['Sales']:\n",
    "    if value > A:\n",
    "        scores.append('Good')\n",
    "    elif value < A:\n",
    "        scores.append('Bad')\n",
    "    else:\n",
    "        scores.append('Average')\n",
    "\n",
    "print(scores[7:10])\n"
   ]
  },
  {
   "cell_type": "markdown",
   "metadata": {},
   "source": [
    "*Câu 21*"
   ]
  },
  {
   "cell_type": "code",
   "execution_count": 66,
   "metadata": {},
   "outputs": [
    {
     "name": "stdout",
     "output_type": "stream",
     "text": [
      "['Bad', 'Bad', 'Bad']\n"
     ]
    }
   ],
   "source": [
    "# Tìm giá trị trong cột 'Sales' gần nhất với giá trị trung bình\n",
    "A = df['Sales'].iloc[(df['Sales'] - mean_value).abs().argsort()[:1]].values[0]\n",
    "\n",
    "# Tạo mảng scores chứa các giá trị 'Good', 'Average', và 'Bad'\n",
    "scores = []\n",
    "for value in df['Sales']:\n",
    "    if value > A:\n",
    "        scores.append('Good')\n",
    "    elif value < A:\n",
    "        scores.append('Bad')\n",
    "    else:\n",
    "        scores.append('Average')\n",
    "\n",
    "# In ra kết quả scores[7:10]\n",
    "print(scores[7:10])"
   ]
  }
 ],
 "metadata": {
  "kernelspec": {
   "display_name": "machine-learning",
   "language": "python",
   "name": "python3"
  },
  "language_info": {
   "codemirror_mode": {
    "name": "ipython",
    "version": 3
   },
   "file_extension": ".py",
   "mimetype": "text/x-python",
   "name": "python",
   "nbconvert_exporter": "python",
   "pygments_lexer": "ipython3",
   "version": "3.12.3"
  }
 },
 "nbformat": 4,
 "nbformat_minor": 2
}
