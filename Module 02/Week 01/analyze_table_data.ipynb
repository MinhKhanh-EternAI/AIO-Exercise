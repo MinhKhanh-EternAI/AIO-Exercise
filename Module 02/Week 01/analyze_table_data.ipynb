{
 "cells": [
  {
   "cell_type": "markdown",
   "metadata": {},
   "source": [
    "*Import libraries*"
   ]
  },
  {
   "cell_type": "code",
   "execution_count": 1,
   "metadata": {},
   "outputs": [],
   "source": [
    "import pandas as pd\n",
    "import numpy as np"
   ]
  },
  {
   "cell_type": "markdown",
   "metadata": {},
   "source": [
    "*Download dataset*"
   ]
  },
  {
   "cell_type": "code",
   "execution_count": 2,
   "metadata": {},
   "outputs": [],
   "source": [
    "# !gdown 1iA0WmVfW88HyJvTBSQDI5vesf-pgKabq"
   ]
  },
  {
   "cell_type": "code",
   "execution_count": 3,
   "metadata": {},
   "outputs": [],
   "source": [
    "df = pd.read_csv('C:\\\\Users\\\\MinhKhanh\\\\Documents\\\\workspace\\\\AIO-2024\\\\AIO-Exercise\\\\Module 02\\\\Week 01\\\\source\\\\advertising.csv')"
   ]
  },
  {
   "cell_type": "code",
   "execution_count": 4,
   "metadata": {},
   "outputs": [],
   "source": [
    "data = df.to_numpy()"
   ]
  },
  {
   "cell_type": "markdown",
   "metadata": {},
   "source": [
    "*Câu 15*"
   ]
  },
  {
   "cell_type": "code",
   "execution_count": 5,
   "metadata": {},
   "outputs": [
    {
     "name": "stdout",
     "output_type": "stream",
     "text": [
      "Max: 27.0 - Index: 175\n"
     ]
    }
   ],
   "source": [
    "# numpy\n",
    "sales_data = data[:, 3]\n",
    "sales_max = np.max(sales_data)\n",
    "sales_idx = np.argmax(sales_data)\n",
    "\n",
    "print(f\"Max: {sales_max} - Index: {sales_idx}\")"
   ]
  },
  {
   "cell_type": "code",
   "execution_count": 6,
   "metadata": {},
   "outputs": [
    {
     "name": "stdout",
     "output_type": "stream",
     "text": [
      "Max: 27.0 - Index: 175\n"
     ]
    }
   ],
   "source": [
    "# pandas\n",
    "sales_max = df['Sales'].max()\n",
    "sales_idx = df['Sales'].idxmax()\n",
    "\n",
    "print(f\"Max: {sales_max} - Index: {sales_idx}\")"
   ]
  },
  {
   "cell_type": "markdown",
   "metadata": {},
   "source": [
    "*Câu 16*"
   ]
  },
  {
   "cell_type": "code",
   "execution_count": 7,
   "metadata": {},
   "outputs": [
    {
     "name": "stdout",
     "output_type": "stream",
     "text": [
      "147.0425\n"
     ]
    }
   ],
   "source": [
    "# numpy\n",
    "tv_mean = data[:, 0].mean()\n",
    "print(tv_mean)"
   ]
  },
  {
   "cell_type": "code",
   "execution_count": 8,
   "metadata": {},
   "outputs": [
    {
     "name": "stdout",
     "output_type": "stream",
     "text": [
      "147.0425\n"
     ]
    }
   ],
   "source": [
    "# pandas\n",
    "tv_mean = df['TV'].mean()\n",
    "print(tv_mean)"
   ]
  },
  {
   "cell_type": "markdown",
   "metadata": {},
   "source": [
    "*Câu 17*"
   ]
  },
  {
   "cell_type": "code",
   "execution_count": 9,
   "metadata": {},
   "outputs": [
    {
     "data": {
      "text/plain": [
       "40"
      ]
     },
     "execution_count": 9,
     "metadata": {},
     "output_type": "execute_result"
    }
   ],
   "source": [
    "# numpy\n",
    "sales_counter  = np.sum(data[:, 3] >= 20.0)\n",
    "sales_counter"
   ]
  },
  {
   "cell_type": "code",
   "execution_count": 10,
   "metadata": {},
   "outputs": [
    {
     "data": {
      "text/plain": [
       "40"
      ]
     },
     "execution_count": 10,
     "metadata": {},
     "output_type": "execute_result"
    }
   ],
   "source": [
    "# pandas\n",
    "filtered_df = df[df['Sales'] >= 20]\n",
    "\n",
    "count = filtered_df.shape[0]\n",
    "count"
   ]
  },
  {
   "cell_type": "markdown",
   "metadata": {},
   "source": [
    "*Câu 18*"
   ]
  },
  {
   "cell_type": "code",
   "execution_count": 11,
   "metadata": {},
   "outputs": [
    {
     "data": {
      "text/plain": [
       "26.222935779816517"
      ]
     },
     "execution_count": 11,
     "metadata": {},
     "output_type": "execute_result"
    }
   ],
   "source": [
    "# numpy\n",
    "sales_cond = data[:, 3] >= 15.0\n",
    "radio_dadta = data[:, 1]\n",
    "radio_cond = radio_dadta * sales_cond\n",
    "radio_mean = np.sum(radio_cond) / np.sum(sales_cond)\n",
    "\n",
    "radio_mean"
   ]
  },
  {
   "cell_type": "code",
   "execution_count": 12,
   "metadata": {},
   "outputs": [
    {
     "data": {
      "text/plain": [
       "26.22293577981651"
      ]
     },
     "execution_count": 12,
     "metadata": {},
     "output_type": "execute_result"
    }
   ],
   "source": [
    "# pandas\n",
    "df_18 = df[df['Sales'] >= 15]\n",
    "df_18['Radio'].mean()"
   ]
  },
  {
   "cell_type": "markdown",
   "metadata": {},
   "source": [
    "*Câu 19*"
   ]
  },
  {
   "cell_type": "code",
   "execution_count": 13,
   "metadata": {},
   "outputs": [
    {
     "data": {
      "text/plain": [
       "1405.1"
      ]
     },
     "execution_count": 13,
     "metadata": {},
     "output_type": "execute_result"
    }
   ],
   "source": [
    "# numpy\n",
    "newspaper_data = data[:, 2]\n",
    "newspaper_mean = newspaper_data.mean()\n",
    "newspaper_cond = newspaper_data > newspaper_mean\n",
    "sales_data = data[:, 3]\n",
    "sales_cond = sales_data * newspaper_cond\n",
    "sales_sum = np.sum(sales_cond)\n",
    "\n",
    "sales_sum"
   ]
  },
  {
   "cell_type": "code",
   "execution_count": 14,
   "metadata": {},
   "outputs": [
    {
     "data": {
      "text/plain": [
       "1405.1"
      ]
     },
     "execution_count": 14,
     "metadata": {},
     "output_type": "execute_result"
    }
   ],
   "source": [
    "# pandas\n",
    "df_19 = df[df['Newspaper'] > df['Newspaper'].mean()]\n",
    "df_19['Sales'].sum()"
   ]
  },
  {
   "cell_type": "markdown",
   "metadata": {},
   "source": [
    "*Câu 20*"
   ]
  },
  {
   "cell_type": "code",
   "execution_count": 15,
   "metadata": {},
   "outputs": [
    {
     "data": {
      "text/plain": [
       "array(['Bad', 'Bad', 'Good'], dtype='<U7')"
      ]
     },
     "execution_count": 15,
     "metadata": {},
     "output_type": "execute_result"
    }
   ],
   "source": [
    "# numpy\n",
    "sales_data = data[:, 3]\n",
    "sales_mean = sales_data.mean()\n",
    "score_sales = np.where(\n",
    "    sales_data < sales_mean,\n",
    "    \"Bad\",\n",
    "    np.where(sales_data > sales_mean, \"Good\", \"Average\")\n",
    ")\n",
    "\n",
    "score_sales[7:10]"
   ]
  },
  {
   "cell_type": "code",
   "execution_count": 16,
   "metadata": {},
   "outputs": [
    {
     "name": "stdout",
     "output_type": "stream",
     "text": [
      "['Bad', 'Bad', 'Good']\n"
     ]
    }
   ],
   "source": [
    "# pandas\n",
    "A = df['Sales'].mean()\n",
    "\n",
    "scores = []\n",
    "for value in df['Sales']:\n",
    "    if value > A:\n",
    "        scores.append('Good')\n",
    "    elif value < A:\n",
    "        scores.append('Bad')\n",
    "    else:\n",
    "        scores.append('Average')\n",
    "\n",
    "print(scores[7:10])\n"
   ]
  },
  {
   "cell_type": "markdown",
   "metadata": {},
   "source": [
    "*Câu 21*"
   ]
  },
  {
   "cell_type": "code",
   "execution_count": 17,
   "metadata": {},
   "outputs": [
    {
     "data": {
      "text/plain": [
       "['Bad', 'Bad', 'Good']"
      ]
     },
     "execution_count": 17,
     "metadata": {},
     "output_type": "execute_result"
    }
   ],
   "source": [
    "# numpy\n",
    "sales_data = data[:, 3]\n",
    "sales_mean = sales_data.mean()\n",
    "sub_mean = sales_data - sales_mean\n",
    "sub_abs = abs(sales_data - sales_mean)\n",
    "average_idx = np.argmin(sub_abs)\n",
    "sales_average = sales_data[average_idx]\n",
    "score_sales = np.where(\n",
    "    sales_data < sales_mean,\n",
    "    \"Bad\",\n",
    "    np.where(sales_data > sales_average, \"Good\", \"Average\")\n",
    ")\n",
    "\n",
    "scores[7:10]"
   ]
  },
  {
   "cell_type": "code",
   "execution_count": 18,
   "metadata": {},
   "outputs": [
    {
     "name": "stdout",
     "output_type": "stream",
     "text": [
      "['Bad' 'Bad' 'Good']\n"
     ]
    }
   ],
   "source": [
    "# pandas\n",
    "average_sales = df['Sales'].mean()\n",
    "\n",
    "A = df['Sales'].iloc[(df['Sales'] - average_sales).abs().argsort()[:1]].values[0]\n",
    "\n",
    "scores = np.where(df['Sales'] > A, 'Good', np.where(df['Sales'] < A, 'Bad', 'Average'))\n",
    "\n",
    "print(scores[7:10])"
   ]
  }
 ],
 "metadata": {
  "kernelspec": {
   "display_name": "machine-learning",
   "language": "python",
   "name": "python3"
  },
  "language_info": {
   "codemirror_mode": {
    "name": "ipython",
    "version": 3
   },
   "file_extension": ".py",
   "mimetype": "text/x-python",
   "name": "python",
   "nbconvert_exporter": "python",
   "pygments_lexer": "ipython3",
   "version": "3.12.3"
  }
 },
 "nbformat": 4,
 "nbformat_minor": 2
}
